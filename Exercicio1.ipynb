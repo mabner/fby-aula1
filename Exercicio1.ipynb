{
 "metadata": {
  "language_info": {
   "codemirror_mode": {
    "name": "ipython",
    "version": 3
   },
   "file_extension": ".py",
   "mimetype": "text/x-python",
   "name": "python",
   "nbconvert_exporter": "python",
   "pygments_lexer": "ipython3",
   "version": "3.9.2"
  },
  "orig_nbformat": 4,
  "kernelspec": {
   "name": "python3",
   "display_name": "Python 3.9.2 64-bit"
  },
  "interpreter": {
   "hash": "63fd5069d213b44bf678585dea6b12cceca9941eaf7f819626cde1f2670de90d"
  }
 },
 "nbformat": 4,
 "nbformat_minor": 2,
 "cells": [
  {
   "source": [
    "# Exercício 1"
   ],
   "cell_type": "markdown",
   "metadata": {}
  },
  {
   "source": [
    "**Sobre outras estruturas de dados, implemente**\n",
    "- Set: Coleção não ordenada sem duplicidade"
   ],
   "cell_type": "markdown",
   "metadata": {}
  },
  {
   "source": [
    "Set é uma coleção não ordenada e sem indexação, que é imutável e não permite itens duplicados (valores duplicados são ignorados). Como não possuem indexação, não se tem uma previsão certa da ordem em que vão ser listados is itens do set. Sets são delimitados com chaves {}.  \n",
    "E.g.:"
   ],
   "cell_type": "markdown",
   "metadata": {}
  },
  {
   "cell_type": "code",
   "execution_count": 89,
   "metadata": {},
   "outputs": [
    {
     "output_type": "stream",
     "name": "stdout",
     "text": [
      "{'coris', 'fridmani', 'palhaço', 'donzela'}\n"
     ]
    }
   ],
   "source": [
    "peixes = {\"donzela\", \"palhaço\", \"fridmani\", \"coris\"}\n",
    "print(peixes)"
   ]
  },
  {
   "source": [
    "---\n",
    "-  Tuple: Alguns valores separados por vírgula"
   ],
   "cell_type": "markdown",
   "metadata": {}
  },
  {
   "source": [
    "Uma tupla é uma coleção ordenada que pode conter valores duplicados. A tupla é imutável, depois de criada não conseguimos alterar a ordem nem adicionar ou remover itens. Tuplas são delimitadas com parênteses ().  \n",
    "E.g.:"
   ],
   "cell_type": "markdown",
   "metadata": {}
  },
  {
   "cell_type": "code",
   "execution_count": 90,
   "metadata": {},
   "outputs": [
    {
     "output_type": "stream",
     "name": "stdout",
     "text": [
      "('donzela', 'palhaço', 'fridmani', 'coris')\n"
     ]
    }
   ],
   "source": [
    "peixes = (\"donzela\", \"palhaço\", \"fridmani\", \"coris\")\n",
    "print(peixes)"
   ]
  },
  {
   "source": [
    "---\n",
    "**Sobre listas, como podemos implementá-las**\n",
    "\n",
    "- ...como uma fila (ou queue)?  \n",
    "\n",
    "Na fila, o primeiro a chegar é o primeiro a sair."
   ],
   "cell_type": "markdown",
   "metadata": {}
  },
  {
   "cell_type": "code",
   "execution_count": 91,
   "metadata": {},
   "outputs": [
    {
     "output_type": "stream",
     "name": "stdout",
     "text": [
      "Fila vazia? True\nTamanho da fila: 0\nItens da fila: ['Peixe Azul']\nItens da fila: ['Peixe Laranja', 'Peixe Azul']\nItens da fila: ['Peixe Roxo', 'Peixe Laranja', 'Peixe Azul']\nItens da fila: ['Peixe Amarelo', 'Peixe Roxo', 'Peixe Laranja', 'Peixe Azul']\nTamanho da fila: 4\nItens da fila: ['Peixe Amarelo', 'Peixe Roxo', 'Peixe Laranja']\nItens da fila: ['Peixe Amarelo', 'Peixe Roxo']\nItens da fila: ['Peixe Amarelo']\nTamanho da fila: 1\nFila vazia? False\n"
     ]
    }
   ],
   "source": [
    "class Queue:\n",
    "    def __init__(self):\n",
    "        self.itens = []\n",
    "    def vazia(self):\n",
    "        return self.itens == []\n",
    "    def adicionar(self, item):\n",
    "        self.itens.insert(0,item)\n",
    "    def remover(self):\n",
    "        return self.itens.pop()\n",
    "    def tamanho(self):\n",
    "        return len(self.itens)\n",
    "\n",
    "fila = Queue()\n",
    "\n",
    "print(\"Fila vazia?\", fila.vazia())\n",
    "print(\"Tamanho da fila:\", fila.tamanho())\n",
    "fila.adicionar(\"Peixe Azul\"); print(\"Itens da fila:\", fila.itens)\n",
    "\n",
    "fila.adicionar(\"Peixe Laranja\"); print(\"Itens da fila:\", fila.itens)\n",
    "\n",
    "fila.adicionar(\"Peixe Roxo\"); print(\"Itens da fila:\", fila.itens)\n",
    "\n",
    "fila.adicionar(\"Peixe Amarelo\"); print(\"Itens da fila:\", fila.itens)\n",
    "\n",
    "print(\"Tamanho da fila:\", fila.tamanho())\n",
    "\n",
    "fila.remover()\n",
    "print(\"Itens da fila:\", fila.itens)\n",
    "\n",
    "fila.remover()\n",
    "print(\"Itens da fila:\", fila.itens)\n",
    "\n",
    "fila.remover()\n",
    "print(\"Itens da fila:\", fila.itens)\n",
    "\n",
    "print(\"Tamanho da fila:\", fila.tamanho())\n",
    "print(\"Fila vazia?\", fila.vazia())"
   ]
  },
  {
   "source": [
    "---\n",
    "- ...como uma pilha (ou stack)?  \n",
    "\n",
    "\n",
    "Na pilha, o último a chegar é o primeiro a sair, como em uma pilha de pratos."
   ],
   "cell_type": "markdown",
   "metadata": {}
  },
  {
   "cell_type": "code",
   "execution_count": 92,
   "metadata": {},
   "outputs": [
    {
     "output_type": "stream",
     "name": "stdout",
     "text": [
      "Fila vazia? True\nTamanho da fila: 0\nItens da fila: ['Peixe Azul']\nItens da fila: ['Peixe Laranja', 'Peixe Azul']\nItens da fila: ['Peixe Roxo', 'Peixe Laranja', 'Peixe Azul']\nItens da fila: ['Peixe Amarelo', 'Peixe Roxo', 'Peixe Laranja', 'Peixe Azul']\nTamanho da fila: 4\nItens da fila: ['Peixe Roxo', 'Peixe Laranja', 'Peixe Azul']\nItens da fila: ['Peixe Laranja', 'Peixe Azul']\nItens da fila: ['Peixe Azul']\nTamanho da fila: 1\nFila vazia? False\n"
     ]
    }
   ],
   "source": [
    "class Queue:\n",
    "    def __init__(self):\n",
    "        self.itens = []\n",
    "    def vazia(self):\n",
    "        return self.itens == []\n",
    "    def adicionar(self, item):\n",
    "        self.itens.insert(-0,item)\n",
    "    def remover(self):\n",
    "        return self.itens.pop(-0)\n",
    "    def tamanho(self):\n",
    "        return len(self.itens)\n",
    "\n",
    "fila = Queue()\n",
    "\n",
    "print(\"Fila vazia?\", fila.vazia())\n",
    "print(\"Tamanho da fila:\", fila.tamanho())\n",
    "fila.adicionar(\"Peixe Azul\"); print(\"Itens da fila:\", fila.itens)\n",
    "\n",
    "fila.adicionar(\"Peixe Laranja\"); print(\"Itens da fila:\", fila.itens)\n",
    "\n",
    "fila.adicionar(\"Peixe Roxo\"); print(\"Itens da fila:\", fila.itens)\n",
    "\n",
    "fila.adicionar(\"Peixe Amarelo\"); print(\"Itens da fila:\", fila.itens)\n",
    "\n",
    "print(\"Tamanho da fila:\", fila.tamanho())\n",
    "\n",
    "fila.remover()\n",
    "print(\"Itens da fila:\", fila.itens)\n",
    "\n",
    "fila.remover()\n",
    "print(\"Itens da fila:\", fila.itens)\n",
    "\n",
    "fila.remover()\n",
    "print(\"Itens da fila:\", fila.itens)\n",
    "\n",
    "print(\"Tamanho da fila:\", fila.tamanho())\n",
    "print(\"Fila vazia?\", fila.vazia())"
   ]
  },
  {
   "source": [
    "---\n",
    "**O que o statement else faz em um loop (note que o 'else' está identado com o 'for')?**"
   ],
   "cell_type": "markdown",
   "metadata": {}
  },
  {
   "cell_type": "code",
   "execution_count": 93,
   "metadata": {},
   "outputs": [
    {
     "output_type": "stream",
     "name": "stdout",
     "text": [
      "2 is a prime number\n",
      "3 is a prime number\n",
      "4 equals 2 * 2\n",
      "5 is a prime number\n",
      "6 equals 2 * 3\n",
      "7 is a prime number\n",
      "8 equals 2 * 4\n",
      "9 equals 3 * 3\n"
     ]
    }
   ],
   "source": [
    "\n",
    "for n in range(2,10):\n",
    "    for x in range(2,n):\n",
    "        if n % x == 0:\n",
    "            print(n, 'equals', x, '*', n//x)\n",
    "            break\n",
    "    else:\n",
    "        print(n, 'is a prime number') "
   ]
  },
  {
   "source": [
    "O **else** é o caminho que o código vai seguir se a condição do **for** não for cumprida, neste caso, quando não estiver no range definido."
   ],
   "cell_type": "markdown",
   "metadata": {}
  }
 ]
}