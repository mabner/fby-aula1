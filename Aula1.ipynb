{
 "metadata": {
  "language_info": {
   "codemirror_mode": {
    "name": "ipython",
    "version": 3
   },
   "file_extension": ".py",
   "mimetype": "text/x-python",
   "name": "python",
   "nbconvert_exporter": "python",
   "pygments_lexer": "ipython3",
   "version": "3.9.2"
  },
  "orig_nbformat": 4,
  "kernelspec": {
   "name": "python3",
   "display_name": "Python 3.9.2 64-bit"
  },
  "interpreter": {
   "hash": "63fd5069d213b44bf678585dea6b12cceca9941eaf7f819626cde1f2670de90d"
  }
 },
 "nbformat": 4,
 "nbformat_minor": 2,
 "cells": [
  {
   "source": [
    "# Códigos gerados em aula:"
   ],
   "cell_type": "markdown",
   "metadata": {}
  },
  {
   "source": [
    "## Hello-world"
   ],
   "cell_type": "markdown",
   "metadata": {}
  },
  {
   "source": [
    "# -*- coding: utf-8 -*-\n",
    "\n",
    "a = 9\n",
    "b = 5\n",
    "c = a - b\n",
    "print(\"----------------------------------------------------\")\n",
    "print(\"                      Olá mundo!                    \")  # Comentario de uma linha\n",
    "print(\"----------------------------------------------------\")\n",
    "\n",
    "\"\"\"\n",
    "Comentario\n",
    "de\n",
    "varias linhas\n",
    "\"\"\"\n",
    "print(\"Tchao mundo!\", a, \"menos\", b, \"é\", c)\n",
    "# A=2 =/= a=2"
   ],
   "cell_type": "code",
   "metadata": {},
   "execution_count": 13,
   "outputs": [
    {
     "output_type": "stream",
     "name": "stdout",
     "text": [
      "----------------------------------------------------\n                      Olá mundo!                    \n----------------------------------------------------\nTchao mundo! 9 menos 5 é 4\n"
     ]
    }
   ]
  },
  {
   "source": [
    "## Declaração de funções"
   ],
   "cell_type": "markdown",
   "metadata": {}
  },
  {
   "cell_type": "code",
   "execution_count": 14,
   "metadata": {},
   "outputs": [
    {
     "output_type": "stream",
     "name": "stdout",
     "text": [
      "Soma total de 9 mais 5 é de: 14\nChamada direta de função. Soma é: 14\nUma variavel: -91\n"
     ]
    }
   ],
   "source": [
    "# Declaração de funções\n",
    "def somar(a=-100, b=100):\n",
    "    return a + b\n",
    "\n",
    "# Chamada de função\n",
    "total = somar(a, b)\n",
    "print(\"Soma total de\", a, \"mais\", b, \"é de:\", total)\n",
    "print(\"Chamada direta de função. Soma é:\", somar(a, b))\n",
    "print(\"Uma variavel:\", somar(b=a))"
   ]
  },
  {
   "cell_type": "code",
   "execution_count": 15,
   "metadata": {},
   "outputs": [
    {
     "output_type": "stream",
     "name": "stdout",
     "text": [
      "0\n25\n50\n75\n100\n"
     ]
    }
   ],
   "source": [
    "# range( valor inicial , valor de parada , intervalo )\n",
    "for i in range(0, 125, 25):\n",
    "    print(i)"
   ]
  },
  {
   "source": [
    "## Usando bibliotecas"
   ],
   "cell_type": "markdown",
   "metadata": {}
  },
  {
   "cell_type": "code",
   "execution_count": 16,
   "metadata": {},
   "outputs": [
    {
     "output_type": "stream",
     "name": "stdout",
     "text": [
      "Os 5 ganhadores são:\nNúmero: 19\nNúmero: 86\nNúmero: 60\nNúmero: 99\nNúmero: 24\n"
     ]
    }
   ],
   "source": [
    "# Usando bibliotecas\n",
    "import random as rd\n",
    "\n",
    "print(\"Os 5 ganhadores são:\")\n",
    "for i in range(5):\n",
    "    a = rd.randint(1,100)\n",
    "    print(\"Número:\", a)"
   ]
  },
  {
   "cell_type": "code",
   "execution_count": 17,
   "metadata": {},
   "outputs": [
    {
     "output_type": "stream",
     "name": "stdout",
     "text": [
      "Números concorrendo: [2, 7, 16, 34, 95, 68, 3]\nNúmero sorteado: 95\n"
     ]
    }
   ],
   "source": [
    "numeros = [2, 7, 16, 34, 95, 68, 3]\n",
    "numero = rd.choice(numeros)\n",
    "print(\"Números concorrendo:\", numeros)\n",
    "print(\"Número sorteado:\", numero)"
   ]
  },
  {
   "source": [
    "## Criando e usando o ambiente virtual\n",
    "\n",
    "- Criar o ambiente: python -m venv itp\n",
    "\n",
    "- Ativar o ambiente: itp\\Scripts\\activate\n",
    "\n",
    "- Desativar o ambiente: itp\\Scripts\\deactivate\n",
    "\n",
    "\n",
    "\n",
    "### Salvar as dependencias pra instalar depois\n",
    "\n",
    "- Salvar as dependencias: pip freeze > requirements.txt\n",
    "\n",
    "- Usando o arquivo pra instalar: pip install -r requirements.txt\n",
    "\n",
    "Ps. Adicionar a pasta do ambiente no .gitignore."
   ],
   "cell_type": "markdown",
   "metadata": {}
  },
  {
   "source": [
    "## Operações com strings"
   ],
   "cell_type": "markdown",
   "metadata": {}
  },
  {
   "cell_type": "code",
   "execution_count": 18,
   "metadata": {},
   "outputs": [
    {
     "output_type": "stream",
     "name": "stdout",
     "text": [
      "6 caracteres\n"
     ]
    }
   ],
   "source": [
    "# .strip() = trim()\n",
    "\n",
    "nome = \"Marcos\"\n",
    "\n",
    "print(len(nome), \"caracteres\")"
   ]
  },
  {
   "cell_type": "code",
   "execution_count": 19,
   "metadata": {},
   "outputs": [
    {
     "output_type": "stream",
     "name": "stdout",
     "text": [
      "M R S\n"
     ]
    }
   ],
   "source": [
    "print(nome[0].upper(), nome[2].upper(), nome[5].upper())"
   ]
  },
  {
   "cell_type": "code",
   "execution_count": 20,
   "metadata": {},
   "outputs": [
    {
     "output_type": "stream",
     "name": "stdout",
     "text": [
      "\nM\nMa\nMar\nMarc\nMarco\nMarcos\n"
     ]
    }
   ],
   "source": [
    "for i in range(7): # 7 porque para uma casa antes\n",
    "    print(nome[:i]) # Vai do inicio até o valor atual de i"
   ]
  },
  {
   "cell_type": "code",
   "execution_count": 21,
   "metadata": {},
   "outputs": [
    {
     "output_type": "stream",
     "name": "stdout",
     "text": [
      "O r está na posição 3\n"
     ]
    }
   ],
   "source": [
    "print(\"O r está na posição\", nome.find(\"r\")+1)"
   ]
  },
  {
   "source": [
    "setaDireita = \">>>>>\"\n",
    "setaEsquerda = \"<<<<<\"\n",
    "\n",
    "\n",
    "def seta(lado):\n",
    "    if lado == \"d\":\n",
    "        for i in range(6):\n",
    "            print(setaDireita[:i])\n",
    "    elif lado == \"e\":\n",
    "        for i in range(6):\n",
    "            print(setaEsquerda[:i])\n",
    "    else:\n",
    "        print(\"Escolha os lados por d ou e\")\n",
    "\n",
    "seta(input(\"Escolha o lado (d ou e):\"))"
   ],
   "cell_type": "code",
   "metadata": {},
   "execution_count": 22,
   "outputs": [
    {
     "output_type": "stream",
     "name": "stdout",
     "text": [
      "\n>\n>>\n>>>\n>>>>\n>>>>>\n"
     ]
    }
   ]
  },
  {
   "source": [
    "### Diferenres formas de usar o valor da variável"
   ],
   "cell_type": "markdown",
   "metadata": {}
  },
  {
   "source": [
    "nome = input(\"Nome:\")\n",
    "sobrenome = input(\"Sobrenome:\")\n",
    "idade = input(\"Idade:\")\n",
    "\n",
    "nomecompleto = nome + \" \" + sobrenome\n",
    "\n",
    "print(nome + \" \" + sobrenome + \" tem \" + idade + \" anos.\")"
   ],
   "cell_type": "code",
   "metadata": {},
   "execution_count": 23,
   "outputs": [
    {
     "output_type": "stream",
     "name": "stdout",
     "text": [
      "Marcos Leite tem 34 anos.\n"
     ]
    }
   ]
  },
  {
   "cell_type": "code",
   "execution_count": 24,
   "metadata": {},
   "outputs": [
    {
     "output_type": "stream",
     "name": "stdout",
     "text": [
      "Marcos Leite tem 34 anos.\n"
     ]
    }
   ],
   "source": [
    "print(\"%s %s tem %s anos.\" % (nome, sobrenome, idade))"
   ]
  },
  {
   "cell_type": "code",
   "execution_count": 25,
   "metadata": {},
   "outputs": [
    {
     "output_type": "stream",
     "name": "stdout",
     "text": [
      "Marcos Leite tem 34 anos.\n"
     ]
    }
   ],
   "source": [
    "print(f\"{nomecompleto} tem {idade} anos.\")"
   ]
  },
  {
   "source": [
    "## Tratamento de exceções"
   ],
   "cell_type": "markdown",
   "metadata": {}
  },
  {
   "cell_type": "code",
   "execution_count": 26,
   "metadata": {},
   "outputs": [
    {
     "output_type": "stream",
     "name": "stdout",
     "text": [
      "Erro: A não pode ser menor que B\n"
     ]
    }
   ],
   "source": [
    "try:\n",
    "    a = 0\n",
    "    b = 50\n",
    "    if(a<b):\n",
    "        raise Exception(\"A não pode ser menor que B\") # Exceções personalizadas\n",
    "    c = b/a\n",
    "    x = \"Oi\" + b\n",
    "except ZeroDivisionError:\n",
    "    print(\"Não é possível dividir por zero\")\n",
    "except Exception as erro:\n",
    "    print(\"Erro:\", erro)"
   ]
  },
  {
   "source": [
    "## Manipulação de arquivo"
   ],
   "cell_type": "markdown",
   "metadata": {}
  },
  {
   "source": [
    "### Leitura"
   ],
   "cell_type": "markdown",
   "metadata": {}
  },
  {
   "cell_type": "code",
   "execution_count": 27,
   "metadata": {},
   "outputs": [
    {
     "output_type": "stream",
     "name": "stdout",
     "text": [
      "Linha 0 -> numpy==1.20.3\n\n"
     ]
    }
   ],
   "source": [
    "import os\n",
    "\n",
    "arquivo = open(\"req.txt\", \"r\")\n",
    "linhas = arquivo.readlines() # Lê todas as linhas e permite escolher qual vai ser usada\n",
    "numLinha = 0\n",
    "# print(arquivo.readline()) # Lê uma linha\n",
    "\n",
    "print(f\"Linha {numLinha} ->\", linhas[numLinha]) # Define nos [] ou usa uma variável\n",
    "\n",
    "arquivo.close()"
   ]
  },
  {
   "source": [
    "### Escrita"
   ],
   "cell_type": "markdown",
   "metadata": {}
  },
  {
   "cell_type": "code",
   "execution_count": 28,
   "metadata": {},
   "outputs": [],
   "source": [
    "import os\n",
    "\n",
    "arquivo = open(\"escrita.txt\", \"r+\") # a permite apenas adicionar ao final do arquivo\n",
    "arquivo.write(\"\\nEscrita\")\n",
    "\n",
    "arquivo.close()"
   ]
  },
  {
   "source": [
    "### Close automático"
   ],
   "cell_type": "markdown",
   "metadata": {}
  },
  {
   "cell_type": "code",
   "execution_count": 29,
   "metadata": {},
   "outputs": [
    {
     "output_type": "stream",
     "name": "stdout",
     "text": [
      "['\\n', 'Escritacrita\\n', 'Escrita\\n', 'novo_texto\\n']\n"
     ]
    }
   ],
   "source": [
    "import os\n",
    "\n",
    "with open(\"escrita.txt\", \"r+\") as arquivo:\n",
    "    print(arquivo.readlines())\n",
    "    arquivo.write(\"\\nnovo_texto\") "
   ]
  },
  {
   "source": [
    "## Estrutura de dados"
   ],
   "cell_type": "markdown",
   "metadata": {}
  },
  {
   "cell_type": "code",
   "execution_count": 30,
   "metadata": {},
   "outputs": [
    {
     "output_type": "stream",
     "name": "stdout",
     "text": [
      "Leidiane\n"
     ]
    }
   ],
   "source": [
    "nomes = [\"Marcos\", \"Abner\", \"Leidiane\"]\n",
    "print(nomes[-1]) # -1 retorna o ultimo item da lista"
   ]
  },
  {
   "cell_type": "code",
   "execution_count": 31,
   "metadata": {},
   "outputs": [
    {
     "output_type": "stream",
     "name": "stdout",
     "text": [
      "Silva está na lista\nSilva\n"
     ]
    }
   ],
   "source": [
    "nomes.append(256)\n",
    "nomes.append(\"Silva\")\n",
    "\n",
    "if \"Silva\" in nomes:\n",
    "    print(\"Silva está na lista\")\n",
    "else:\n",
    "    print(\"Silva não está na lista\")\n",
    "print(nomes[-1])"
   ]
  },
  {
   "cell_type": "code",
   "execution_count": 32,
   "metadata": {},
   "outputs": [
    {
     "output_type": "stream",
     "name": "stdout",
     "text": [
      "Marcos\nAbner\nLeidiane\n256\nSilva\n"
     ]
    }
   ],
   "source": [
    "for i in nomes: # Imprimir os itens da lista \n",
    "    print(i)"
   ]
  },
  {
   "cell_type": "code",
   "execution_count": 33,
   "metadata": {},
   "outputs": [
    {
     "output_type": "stream",
     "name": "stdout",
     "text": [
      "antes:  Abner\nsorted:  ['Abner', 'Leidiane', 'Marcos', 'Silva']\ndepois:  Abner\n"
     ]
    }
   ],
   "source": [
    "del nomes[3] # Remover da lista\n",
    "# nomes.sort() # Ordena os itens da lista em ordem asc., sort(reverse=True) ordena em desc.\n",
    "print(\"antes: \" , nomes[1])\n",
    "print(\"sorted: \" , sorted(nomes)) # sorted mostra ordenada mas não altera a lista\n",
    "print(\"depois: \", nomes[1])"
   ]
  },
  {
   "cell_type": "code",
   "execution_count": 34,
   "metadata": {},
   "outputs": [
    {
     "output_type": "stream",
     "name": "stdout",
     "text": [
      "Marcos\nAbner\nLeidiane\nSilva\n"
     ]
    }
   ],
   "source": [
    "for i in nomes:\n",
    "    print(i)"
   ]
  },
  {
   "cell_type": "code",
   "execution_count": 35,
   "metadata": {},
   "outputs": [
    {
     "output_type": "stream",
     "name": "stdout",
     "text": [
      "{'tipo': 'Apartamento', 'quartos': 2, 'transporte': ['moto', 'bicicleta'], 'moradores': ['Marcos', 'Leidiane']}\n"
     ]
    }
   ],
   "source": [
    "nomes = [\"Marcos\", \"Leidiane\", \"José\", \"Maria\", \"Christian\"]\n",
    "\n",
    "casa = {\n",
    "    \"tipo\": \"Apartamento\",\n",
    "    \"quartos\": 2,\n",
    "    \"transporte\": [\"moto\", \"bicicleta\"],\n",
    "    \"moradores\": nomes[0:2]\n",
    "}\n",
    "\n",
    "print(casa)"
   ]
  },
  {
   "cell_type": "code",
   "execution_count": 36,
   "metadata": {},
   "outputs": [
    {
     "output_type": "stream",
     "name": "stdout",
     "text": [
      "Tipo: Apartamento\nQuartos: 2\nTransporte: ['moto', 'bicicleta']\nMoradores: ['Marcos', 'Leidiane']\n"
     ]
    }
   ],
   "source": [
    "# https://www.w3schools.com/python/python_ref_string.asp\n",
    "for i in casa: # Print mais organizado, cada chave em uma linha\n",
    "    print(f\"{i.capitalize()}: {casa[i]}\")"
   ]
  },
  {
   "cell_type": "code",
   "execution_count": 37,
   "metadata": {},
   "outputs": [
    {
     "output_type": "stream",
     "name": "stdout",
     "text": [
      "('tipo', 'Apartamento')\n('quartos', 2)\n('transporte', ['moto', 'bicicleta'])\n('moradores', ['Marcos', 'Leidiane'])\n"
     ]
    }
   ],
   "source": [
    "for i in casa.items(): # .items() imprime em tuplas\n",
    "    print(i)"
   ]
  },
  {
   "cell_type": "code",
   "execution_count": 38,
   "metadata": {},
   "outputs": [
    {
     "output_type": "stream",
     "name": "stdout",
     "text": [
      "Tipo: <class 'dict'>\n"
     ]
    }
   ],
   "source": [
    "print(\"Tipo:\", type(casa)) # Imprime o tipo do objeto"
   ]
  },
  {
   "source": [
    "### Classes"
   ],
   "cell_type": "markdown",
   "metadata": {}
  },
  {
   "cell_type": "code",
   "execution_count": 39,
   "metadata": {},
   "outputs": [
    {
     "output_type": "stream",
     "name": "stdout",
     "text": [
      "..:: Cnidários ::..\nDucan Aussie LPS\nTrumpet Kryptonita LPS\n"
     ]
    }
   ],
   "source": [
    "class Corais:\n",
    "    tipo = \"cnidários\"\n",
    "\n",
    "    def __init__(self, nome): # Contrutor\n",
    "        self.nome = nome # self. == this\n",
    "\n",
    "    def classif(self):\n",
    "        print(f\"{self.nome} LPS\")\n",
    "\n",
    "c = Corais(\"Ducan Aussie\")\n",
    "d = Corais(\"Trumpet Kryptonita\")\n",
    "print(\"..::\", c.tipo.capitalize(), \"::..\")\n",
    "c.classif()\n",
    "d.classif()"
   ]
  },
  {
   "source": [
    "### Mais coisas legais do Python"
   ],
   "cell_type": "markdown",
   "metadata": {}
  },
  {
   "source": [
    "#### Enumerate"
   ],
   "cell_type": "markdown",
   "metadata": {}
  },
  {
   "cell_type": "code",
   "execution_count": 40,
   "metadata": {},
   "outputs": [
    {
     "output_type": "stream",
     "name": "stdout",
     "text": [
      "Posição do nome: 3\n"
     ]
    }
   ],
   "source": [
    "for i, nome in enumerate(nomes): # enumerate retorna a posição da string encontrada\n",
    "    if nome == \"Maria\":\n",
    "        print(\"Posição do nome:\", i)"
   ]
  },
  {
   "source": [
    "#### List comprehension "
   ],
   "cell_type": "markdown",
   "metadata": {}
  },
  {
   "cell_type": "code",
   "execution_count": 41,
   "metadata": {},
   "outputs": [
    {
     "output_type": "stream",
     "name": "stdout",
     "text": [
      "[2, 3]\n"
     ]
    }
   ],
   "source": [
    "numeros = [0, 3, 6, 9]\n",
    "lista_por_3 = [ int(x/3) for x in numeros if x > 5] # Percorre a lista dividindo cada item por 3, se forem maio que 5\n",
    "print (lista_por_3)"
   ]
  },
  {
   "source": [
    "#### Função sobre todos os elementos"
   ],
   "cell_type": "markdown",
   "metadata": {}
  },
  {
   "cell_type": "code",
   "execution_count": 42,
   "metadata": {},
   "outputs": [
    {
     "output_type": "stream",
     "name": "stdout",
     "text": [
      "[0.0, 9.42, 18.84, 28.26]\n"
     ]
    }
   ],
   "source": [
    "def pi(a):\n",
    "    return a * 3.14\n",
    "\n",
    "multiplicados = list(map(pi, numeros))\n",
    "print(multiplicados)"
   ]
  },
  {
   "source": [
    "#### Redução (map c/ 2 argumentos)"
   ],
   "cell_type": "markdown",
   "metadata": {}
  },
  {
   "cell_type": "code",
   "execution_count": 43,
   "metadata": {},
   "outputs": [
    {
     "output_type": "stream",
     "name": "stdout",
     "text": [
      "18\n"
     ]
    }
   ],
   "source": [
    "from functools import reduce\n",
    "\n",
    "def soma (a, b):\n",
    "    return a+b\n",
    "\n",
    "print(reduce(soma, numeros)) # Percorre a lista somando todos os itens"
   ]
  },
  {
   "source": [
    "#### Acesso simultâneo"
   ],
   "cell_type": "markdown",
   "metadata": {}
  },
  {
   "cell_type": "code",
   "execution_count": 44,
   "metadata": {},
   "outputs": [
    {
     "output_type": "stream",
     "name": "stdout",
     "text": [
      "Marcos Abner\nLeidiane Aparecida\n"
     ]
    }
   ],
   "source": [
    "nome = [\"Marcos\", \"Leidiane\"]\n",
    "segundonome = [\"Abner\", \"Aparecida\", \"Silva\"]\n",
    "\n",
    "for nome, segundonome in zip(nome, segundonome): # Zip junta os items das listas de acordo com as posições\n",
    "    print(nome, segundonome)"
   ]
  },
  {
   "cell_type": "code",
   "execution_count": null,
   "metadata": {},
   "outputs": [],
   "source": []
  }
 ]
}